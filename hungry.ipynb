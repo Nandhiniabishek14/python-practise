{
 "cells": [
  {
   "cell_type": "code",
   "execution_count": 1,
   "id": "0251f72f",
   "metadata": {},
   "outputs": [
    {
     "name": "stdout",
     "output_type": "stream",
     "text": [
      "iam hungry\n"
     ]
    }
   ],
   "source": [
    "print(\"iam hungry\")"
   ]
  },
  {
   "cell_type": "code",
   "execution_count": 1,
   "id": "23b43891",
   "metadata": {},
   "outputs": [
    {
     "name": "stdout",
     "output_type": "stream",
     "text": [
      "iam not hungry\n"
     ]
    }
   ],
   "source": [
    "print(\"iam not hungry\")"
   ]
  },
  {
   "cell_type": "code",
   "execution_count": null,
   "id": "5d630f66",
   "metadata": {},
   "outputs": [],
   "source": []
  }
 ],
 "metadata": {
  "kernelspec": {
   "display_name": "Python 3 (ipykernel)",
   "language": "python",
   "name": "python3"
  },
  "language_info": {
   "codemirror_mode": {
    "name": "ipython",
    "version": 3
   },
   "file_extension": ".py",
   "mimetype": "text/x-python",
   "name": "python",
   "nbconvert_exporter": "python",
   "pygments_lexer": "ipython3",
   "version": "3.10.9"
  }
 },
 "nbformat": 4,
 "nbformat_minor": 5
}
